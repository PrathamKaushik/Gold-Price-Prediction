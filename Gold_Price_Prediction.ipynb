{
  "nbformat": 4,
  "nbformat_minor": 0,
  "metadata": {
    "colab": {
      "provenance": []
    },
    "kernelspec": {
      "name": "python3",
      "display_name": "Python 3"
    },
    "language_info": {
      "name": "python"
    }
  },
  "cells": [
    {
      "cell_type": "code",
      "execution_count": null,
      "metadata": {
        "id": "-v-88omfavmQ"
      },
      "outputs": [],
      "source": [
        "import numpy as np\n",
        "import pandas as pd\n",
        "import matplotlib.pyplot as plt\n",
        "import seaborn as sns\n",
        "from sklearn.model_selection import train_test_split\n",
        "from sklearn.ensemble import RandomForestRegressor\n",
        "from sklearn import metrics"
      ]
    },
    {
      "cell_type": "code",
      "source": [
        "# loading the csv data to a Pandas DataFrame\n",
        "gold_data = pd.read_csv('/content/gld_price_data.csv')"
      ],
      "metadata": {
        "id": "LCJoNHolbzmc"
      },
      "execution_count": null,
      "outputs": []
    },
    {
      "cell_type": "code",
      "source": [
        "gold_data.sample(6)"
      ],
      "metadata": {
        "colab": {
          "base_uri": "https://localhost:8080/",
          "height": 237
        },
        "id": "RASPtGfvb-Wc",
        "outputId": "7d32f810-5176-4968-f6b4-3b61539de454"
      },
      "execution_count": null,
      "outputs": [
        {
          "output_type": "execute_result",
          "data": {
            "text/plain": [
              "            Date          SPX         GLD         USO        SLV   EUR/USD\n",
              "1827    4/6/2016  2066.659912  116.940002    9.600000  14.340000  1.140498\n",
              "845   11/15/2011  1257.810059  173.360001   38.430000  33.660000  1.362416\n",
              "1381    4/7/2014  1845.040039  124.910004   36.279999  19.129999  1.374306\n",
              "549    7/12/2010  1078.750000  117.339996   33.779999  17.620001  1.272087\n",
              "1250   9/17/2013  1704.760010  126.500000   37.740002  20.959999  1.335791\n",
              "117    7/15/2008  1214.910034   96.169998  112.389999  18.700001  1.582203"
            ],
            "text/html": [
              "\n",
              "  <div id=\"df-a946c5ab-7bb7-4265-8d96-73df730124b6\">\n",
              "    <div class=\"colab-df-container\">\n",
              "      <div>\n",
              "<style scoped>\n",
              "    .dataframe tbody tr th:only-of-type {\n",
              "        vertical-align: middle;\n",
              "    }\n",
              "\n",
              "    .dataframe tbody tr th {\n",
              "        vertical-align: top;\n",
              "    }\n",
              "\n",
              "    .dataframe thead th {\n",
              "        text-align: right;\n",
              "    }\n",
              "</style>\n",
              "<table border=\"1\" class=\"dataframe\">\n",
              "  <thead>\n",
              "    <tr style=\"text-align: right;\">\n",
              "      <th></th>\n",
              "      <th>Date</th>\n",
              "      <th>SPX</th>\n",
              "      <th>GLD</th>\n",
              "      <th>USO</th>\n",
              "      <th>SLV</th>\n",
              "      <th>EUR/USD</th>\n",
              "    </tr>\n",
              "  </thead>\n",
              "  <tbody>\n",
              "    <tr>\n",
              "      <th>1827</th>\n",
              "      <td>4/6/2016</td>\n",
              "      <td>2066.659912</td>\n",
              "      <td>116.940002</td>\n",
              "      <td>9.600000</td>\n",
              "      <td>14.340000</td>\n",
              "      <td>1.140498</td>\n",
              "    </tr>\n",
              "    <tr>\n",
              "      <th>845</th>\n",
              "      <td>11/15/2011</td>\n",
              "      <td>1257.810059</td>\n",
              "      <td>173.360001</td>\n",
              "      <td>38.430000</td>\n",
              "      <td>33.660000</td>\n",
              "      <td>1.362416</td>\n",
              "    </tr>\n",
              "    <tr>\n",
              "      <th>1381</th>\n",
              "      <td>4/7/2014</td>\n",
              "      <td>1845.040039</td>\n",
              "      <td>124.910004</td>\n",
              "      <td>36.279999</td>\n",
              "      <td>19.129999</td>\n",
              "      <td>1.374306</td>\n",
              "    </tr>\n",
              "    <tr>\n",
              "      <th>549</th>\n",
              "      <td>7/12/2010</td>\n",
              "      <td>1078.750000</td>\n",
              "      <td>117.339996</td>\n",
              "      <td>33.779999</td>\n",
              "      <td>17.620001</td>\n",
              "      <td>1.272087</td>\n",
              "    </tr>\n",
              "    <tr>\n",
              "      <th>1250</th>\n",
              "      <td>9/17/2013</td>\n",
              "      <td>1704.760010</td>\n",
              "      <td>126.500000</td>\n",
              "      <td>37.740002</td>\n",
              "      <td>20.959999</td>\n",
              "      <td>1.335791</td>\n",
              "    </tr>\n",
              "    <tr>\n",
              "      <th>117</th>\n",
              "      <td>7/15/2008</td>\n",
              "      <td>1214.910034</td>\n",
              "      <td>96.169998</td>\n",
              "      <td>112.389999</td>\n",
              "      <td>18.700001</td>\n",
              "      <td>1.582203</td>\n",
              "    </tr>\n",
              "  </tbody>\n",
              "</table>\n",
              "</div>\n",
              "      <button class=\"colab-df-convert\" onclick=\"convertToInteractive('df-a946c5ab-7bb7-4265-8d96-73df730124b6')\"\n",
              "              title=\"Convert this dataframe to an interactive table.\"\n",
              "              style=\"display:none;\">\n",
              "        \n",
              "  <svg xmlns=\"http://www.w3.org/2000/svg\" height=\"24px\"viewBox=\"0 0 24 24\"\n",
              "       width=\"24px\">\n",
              "    <path d=\"M0 0h24v24H0V0z\" fill=\"none\"/>\n",
              "    <path d=\"M18.56 5.44l.94 2.06.94-2.06 2.06-.94-2.06-.94-.94-2.06-.94 2.06-2.06.94zm-11 1L8.5 8.5l.94-2.06 2.06-.94-2.06-.94L8.5 2.5l-.94 2.06-2.06.94zm10 10l.94 2.06.94-2.06 2.06-.94-2.06-.94-.94-2.06-.94 2.06-2.06.94z\"/><path d=\"M17.41 7.96l-1.37-1.37c-.4-.4-.92-.59-1.43-.59-.52 0-1.04.2-1.43.59L10.3 9.45l-7.72 7.72c-.78.78-.78 2.05 0 2.83L4 21.41c.39.39.9.59 1.41.59.51 0 1.02-.2 1.41-.59l7.78-7.78 2.81-2.81c.8-.78.8-2.07 0-2.86zM5.41 20L4 18.59l7.72-7.72 1.47 1.35L5.41 20z\"/>\n",
              "  </svg>\n",
              "      </button>\n",
              "      \n",
              "  <style>\n",
              "    .colab-df-container {\n",
              "      display:flex;\n",
              "      flex-wrap:wrap;\n",
              "      gap: 12px;\n",
              "    }\n",
              "\n",
              "    .colab-df-convert {\n",
              "      background-color: #E8F0FE;\n",
              "      border: none;\n",
              "      border-radius: 50%;\n",
              "      cursor: pointer;\n",
              "      display: none;\n",
              "      fill: #1967D2;\n",
              "      height: 32px;\n",
              "      padding: 0 0 0 0;\n",
              "      width: 32px;\n",
              "    }\n",
              "\n",
              "    .colab-df-convert:hover {\n",
              "      background-color: #E2EBFA;\n",
              "      box-shadow: 0px 1px 2px rgba(60, 64, 67, 0.3), 0px 1px 3px 1px rgba(60, 64, 67, 0.15);\n",
              "      fill: #174EA6;\n",
              "    }\n",
              "\n",
              "    [theme=dark] .colab-df-convert {\n",
              "      background-color: #3B4455;\n",
              "      fill: #D2E3FC;\n",
              "    }\n",
              "\n",
              "    [theme=dark] .colab-df-convert:hover {\n",
              "      background-color: #434B5C;\n",
              "      box-shadow: 0px 1px 3px 1px rgba(0, 0, 0, 0.15);\n",
              "      filter: drop-shadow(0px 1px 2px rgba(0, 0, 0, 0.3));\n",
              "      fill: #FFFFFF;\n",
              "    }\n",
              "  </style>\n",
              "\n",
              "      <script>\n",
              "        const buttonEl =\n",
              "          document.querySelector('#df-a946c5ab-7bb7-4265-8d96-73df730124b6 button.colab-df-convert');\n",
              "        buttonEl.style.display =\n",
              "          google.colab.kernel.accessAllowed ? 'block' : 'none';\n",
              "\n",
              "        async function convertToInteractive(key) {\n",
              "          const element = document.querySelector('#df-a946c5ab-7bb7-4265-8d96-73df730124b6');\n",
              "          const dataTable =\n",
              "            await google.colab.kernel.invokeFunction('convertToInteractive',\n",
              "                                                     [key], {});\n",
              "          if (!dataTable) return;\n",
              "\n",
              "          const docLinkHtml = 'Like what you see? Visit the ' +\n",
              "            '<a target=\"_blank\" href=https://colab.research.google.com/notebooks/data_table.ipynb>data table notebook</a>'\n",
              "            + ' to learn more about interactive tables.';\n",
              "          element.innerHTML = '';\n",
              "          dataTable['output_type'] = 'display_data';\n",
              "          await google.colab.output.renderOutput(dataTable, element);\n",
              "          const docLink = document.createElement('div');\n",
              "          docLink.innerHTML = docLinkHtml;\n",
              "          element.appendChild(docLink);\n",
              "        }\n",
              "      </script>\n",
              "    </div>\n",
              "  </div>\n",
              "  "
            ]
          },
          "metadata": {},
          "execution_count": 3
        }
      ]
    },
    {
      "cell_type": "code",
      "source": [
        "gold_data.shape"
      ],
      "metadata": {
        "colab": {
          "base_uri": "https://localhost:8080/"
        },
        "id": "tnkzuKWMcFX2",
        "outputId": "8a2dc90f-4c11-46c6-b3da-ea6eb0fc23ec"
      },
      "execution_count": null,
      "outputs": [
        {
          "output_type": "execute_result",
          "data": {
            "text/plain": [
              "(2290, 6)"
            ]
          },
          "metadata": {},
          "execution_count": 4
        }
      ]
    },
    {
      "cell_type": "code",
      "source": [
        "gold_data.isnull().sum()"
      ],
      "metadata": {
        "colab": {
          "base_uri": "https://localhost:8080/"
        },
        "id": "KEd4S-hhcTpw",
        "outputId": "43d7ffe3-10f8-4e8b-ca09-2e9f564bed3d"
      },
      "execution_count": null,
      "outputs": [
        {
          "output_type": "execute_result",
          "data": {
            "text/plain": [
              "Date       0\n",
              "SPX        0\n",
              "GLD        0\n",
              "USO        0\n",
              "SLV        0\n",
              "EUR/USD    0\n",
              "dtype: int64"
            ]
          },
          "metadata": {},
          "execution_count": 5
        }
      ]
    },
    {
      "cell_type": "code",
      "source": [
        "gold_data.duplicated().sum()"
      ],
      "metadata": {
        "colab": {
          "base_uri": "https://localhost:8080/"
        },
        "id": "j16pxLjYceST",
        "outputId": "cbd544c1-d961-4035-f4dd-128806a7ccd2"
      },
      "execution_count": null,
      "outputs": [
        {
          "output_type": "execute_result",
          "data": {
            "text/plain": [
              "0"
            ]
          },
          "metadata": {},
          "execution_count": 6
        }
      ]
    },
    {
      "cell_type": "code",
      "source": [
        "correlation=gold_data.corr()"
      ],
      "metadata": {
        "id": "gBU6e56vcpqS"
      },
      "execution_count": null,
      "outputs": []
    },
    {
      "cell_type": "code",
      "source": [
        "# constructing a heatmap to understand the correlatiom\n",
        "plt.figure(figsize = (8,8))\n",
        "sns.heatmap(correlation, cbar=True, square=True, fmt='.1f',annot=True, annot_kws={'size':8}, cmap='Blues')"
      ],
      "metadata": {
        "colab": {
          "base_uri": "https://localhost:8080/",
          "height": 487
        },
        "id": "ue38FB5acvWw",
        "outputId": "d4edcc7a-b868-4bb5-e174-2edbd3b900ed"
      },
      "execution_count": null,
      "outputs": [
        {
          "output_type": "execute_result",
          "data": {
            "text/plain": [
              "<matplotlib.axes._subplots.AxesSubplot at 0x7ff647d42d90>"
            ]
          },
          "metadata": {},
          "execution_count": 9
        },
        {
          "output_type": "display_data",
          "data": {
            "text/plain": [
              "<Figure size 576x576 with 2 Axes>"
            ],
            "image/png": "[encoded data removed]"
          },
          "metadata": {
            "needs_background": "light"
          }
        }
      ]
    },
    {
      "cell_type": "code",
      "source": [
        "# correlation values of GLD\n",
        "print(correlation['GLD'])"
      ],
      "metadata": {
        "colab": {
          "base_uri": "https://localhost:8080/"
        },
        "id": "DPSgvDjZdPyl",
        "outputId": "686458e5-fac7-439d-b82b-23e8792b7455"
      },
      "execution_count": null,
      "outputs": [
        {
          "output_type": "stream",
          "name": "stdout",
          "text": [
            "SPX        0.049345\n",
            "GLD        1.000000\n",
            "USO       -0.186360\n",
            "SLV        0.866632\n",
            "EUR/USD   -0.024375\n",
            "Name: GLD, dtype: float64\n"
          ]
        }
      ]
    },
    {
      "cell_type": "code",
      "source": [
        "# checking the distribution of the GLD Price\n",
        "sns.distplot(gold_data['GLD'],color='green')"
      ],
      "metadata": {
        "colab": {
          "base_uri": "https://localhost:8080/",
          "height": 355
        },
        "id": "Y15NGxATdZXN",
        "outputId": "183019c1-55a1-4aec-ab3d-b5ed46aeab4e"
      },
      "execution_count": null,
      "outputs": [
        {
          "output_type": "stream",
          "name": "stderr",
          "text": [
            "/usr/local/lib/python3.7/dist-packages/seaborn/distributions.py:2619: FutureWarning: `distplot` is a deprecated function and will be removed in a future version. Please adapt your code to use either `displot` (a figure-level function with similar flexibility) or `histplot` (an axes-level function for histograms).\n",
            "  warnings.warn(msg, FutureWarning)\n"
          ]
        },
        {
          "output_type": "execute_result",
          "data": {
            "text/plain": [
              "<matplotlib.axes._subplots.AxesSubplot at 0x7ff64519ab90>"
            ]
          },
          "metadata": {},
          "execution_count": 11
        },
        {
          "output_type": "display_data",
          "data": {
            "text/plain": [
              "<Figure size 432x288 with 1 Axes>"
            ],
            "image/png": "[encoded data removed]"
          },
          "metadata": {
            "needs_background": "light"
          }
        }
      ]
    },
    {
      "cell_type": "code",
      "source": [
        "# Separating the input and output features\n",
        "X = gold_data.drop(['Date','GLD'],axis=1)\n",
        "Y = gold_data['GLD']"
      ],
      "metadata": {
        "id": "1N1JL6pDdipD"
      },
      "execution_count": null,
      "outputs": []
    },
    {
      "cell_type": "code",
      "source": [
        "X,Y"
      ],
      "metadata": {
        "colab": {
          "base_uri": "https://localhost:8080/"
        },
        "id": "IRU8FSuYd59h",
        "outputId": "d31d73e8-1356-45c7-9139-da187c1d34e8"
      },
      "execution_count": null,
      "outputs": [
        {
          "output_type": "execute_result",
          "data": {
            "text/plain": [
              "(              SPX        USO      SLV   EUR/USD\n",
              " 0     1447.160034  78.470001  15.1800  1.471692\n",
              " 1     1447.160034  78.370003  15.2850  1.474491\n",
              " 2     1411.630005  77.309998  15.1670  1.475492\n",
              " 3     1416.180054  75.500000  15.0530  1.468299\n",
              " 4     1390.189941  76.059998  15.5900  1.557099\n",
              " ...           ...        ...      ...       ...\n",
              " 2285  2671.919922  14.060000  15.5100  1.186789\n",
              " 2286  2697.790039  14.370000  15.5300  1.184722\n",
              " 2287  2723.070068  14.410000  15.7400  1.191753\n",
              " 2288  2730.129883  14.380000  15.5600  1.193118\n",
              " 2289  2725.780029  14.405800  15.4542  1.182033\n",
              " \n",
              " [2290 rows x 4 columns], 0        84.860001\n",
              " 1        85.570000\n",
              " 2        85.129997\n",
              " 3        84.769997\n",
              " 4        86.779999\n",
              "            ...    \n",
              " 2285    124.589996\n",
              " 2286    124.330002\n",
              " 2287    125.180000\n",
              " 2288    124.489998\n",
              " 2289    122.543800\n",
              " Name: GLD, Length: 2290, dtype: float64)"
            ]
          },
          "metadata": {},
          "execution_count": 13
        }
      ]
    },
    {
      "cell_type": "markdown",
      "source": [
        "# Splitting the training and testing data"
      ],
      "metadata": {
        "id": "GnXIUpwreTc6"
      }
    },
    {
      "cell_type": "code",
      "source": [
        "X_train, X_test, Y_train, Y_test = train_test_split(X, Y, test_size = 0.2, random_state=2)"
      ],
      "metadata": {
        "id": "3psV0gtIeA5c"
      },
      "execution_count": null,
      "outputs": []
    },
    {
      "cell_type": "code",
      "source": [
        "regressor = RandomForestRegressor(n_estimators=100)"
      ],
      "metadata": {
        "id": "II1I7sfaec-Y"
      },
      "execution_count": null,
      "outputs": []
    },
    {
      "cell_type": "code",
      "source": [
        "# training the model\n",
        "regressor.fit(X_train,Y_train)"
      ],
      "metadata": {
        "colab": {
          "base_uri": "https://localhost:8080/"
        },
        "id": "u3LNi6y8eile",
        "outputId": "cf914e00-3575-4c4d-8476-640380a58510"
      },
      "execution_count": null,
      "outputs": [
        {
          "output_type": "execute_result",
          "data": {
            "text/plain": [
              "RandomForestRegressor()"
            ]
          },
          "metadata": {},
          "execution_count": 16
        }
      ]
    },
    {
      "cell_type": "code",
      "source": [
        "# prediction on Test Data\n",
        "test_data_prediction = regressor.predict(X_test)"
      ],
      "metadata": {
        "id": "CPLTPIDIemVy"
      },
      "execution_count": null,
      "outputs": []
    },
    {
      "cell_type": "code",
      "source": [
        "test_data_prediction"
      ],
      "metadata": {
        "colab": {
          "base_uri": "https://localhost:8080/"
        },
        "id": "w0hhAnn9erkz",
        "outputId": "54b63ab2-2f95-4410-cd59-75954c571764"
      },
      "execution_count": null,
      "outputs": [
        {
          "output_type": "execute_result",
          "data": {
            "text/plain": [
              "array([168.12909886,  81.96879978, 115.90820015, 127.72090082,\n",
              "       120.671901  , 154.7293977 , 150.41129786, 126.12220013,\n",
              "       117.46899885, 126.00120053, 116.6398009 , 172.37040066,\n",
              "       141.37189854, 167.75949888, 115.17629993, 117.53490044,\n",
              "       137.32700361, 169.62460102, 158.98650335, 158.07009953,\n",
              "       155.1788003 , 125.19010035, 175.38800025, 157.34980287,\n",
              "       125.28880045,  93.63999965,  76.85720011, 120.74650001,\n",
              "       119.05789929, 167.43829937,  88.09590048, 125.25499993,\n",
              "        91.06030055, 117.64350034, 121.10399948, 136.65220005,\n",
              "       115.46580109, 115.01320057, 147.41739945, 107.39650088,\n",
              "       104.27940244,  87.26139798, 126.55670038, 118.11389988,\n",
              "       153.75879886, 119.58119994, 108.46869964, 108.09049846,\n",
              "        93.3114009 , 127.10729771,  74.74590047, 113.67949939,\n",
              "       121.22929996, 111.34199919, 118.79609885, 120.36759925,\n",
              "       159.02690056, 168.06190123, 146.9245967 ,  86.18829865,\n",
              "        94.2830999 ,  86.8235988 ,  90.52110002, 118.98550071,\n",
              "       126.43710075, 127.43939972, 169.58349962, 122.30999923,\n",
              "       117.15839894,  98.29349993, 168.51020148, 142.86599829,\n",
              "       131.90250191, 121.28680225, 121.30199919, 119.80610037,\n",
              "       114.6434021 , 118.29900048, 107.0517009 , 127.78770069,\n",
              "       113.8540999 , 107.27639983, 116.67330076, 119.75629868,\n",
              "        89.15070052,  88.37459873, 146.88210173, 127.20250041,\n",
              "       113.50630034, 110.26269868, 107.93449905,  77.04939906,\n",
              "       169.25960202, 114.07059922, 121.44009934, 127.75950217,\n",
              "       154.94649827,  91.76629902, 136.67880075, 159.37630397,\n",
              "       125.69410035, 125.55350034, 130.67610202, 114.80770161,\n",
              "       119.79060043,  92.11109996, 110.10179909, 167.92709886,\n",
              "       156.95179936, 114.23759958, 106.54250137,  79.49509967,\n",
              "       113.28370049, 125.89720054, 107.217799  , 119.26110061,\n",
              "       155.45650317, 159.93929836, 120.27749986, 134.95090282,\n",
              "       101.54769952, 117.71479814, 119.20690007, 112.92430073,\n",
              "       102.77059914, 159.9587978 ,  98.92820023, 147.86459919,\n",
              "       125.3710009 , 168.7757989 , 125.42139955, 127.41279706,\n",
              "       127.48070163, 113.72399916, 112.4173005 , 123.59439862,\n",
              "       102.12949897,  88.92280003, 124.45889941, 101.73659904,\n",
              "       107.28159927, 113.25420065, 117.32940031,  98.8410992 ,\n",
              "       121.80040051, 163.85899996,  87.47979881, 107.10429972,\n",
              "       117.1400009 , 127.57980117, 124.20500051,  80.96979915,\n",
              "       120.31650058, 158.13459901,  87.94379976, 110.15119959,\n",
              "       118.91569904, 173.10819905, 102.98869918, 105.58010031,\n",
              "       122.40800013, 158.70469846,  87.66979842,  93.0737005 ,\n",
              "       112.53300029, 177.26119965, 114.62199974, 119.21209997,\n",
              "        94.65010092, 125.66920054, 166.31760084, 114.92430097,\n",
              "       116.62320167,  88.43149854, 149.02040113, 120.39730002,\n",
              "        89.55929997, 112.62880003, 117.38140028, 118.70390126,\n",
              "        88.13989955,  94.30910025, 117.01140042, 118.37090189,\n",
              "       120.41680067, 126.62239861, 121.72630043, 148.92650022,\n",
              "       165.66890088, 118.58199979, 120.37900136, 150.60160048,\n",
              "       118.65429909, 172.97559911, 105.21729919, 105.07600113,\n",
              "       149.29980133, 113.53370093, 124.77990108, 147.79589982,\n",
              "       119.50970103, 115.44510095, 112.7834002 , 113.46890204,\n",
              "       141.40940102, 117.87499765, 102.89360021, 115.83050101,\n",
              "       103.82810197,  98.51379999, 117.42690061,  90.70100013,\n",
              "        91.65800038, 153.21649983, 102.65219986, 154.98510092,\n",
              "       114.3641018 , 138.39000064,  90.20289838, 115.47399952,\n",
              "       114.73399989, 123.13640024, 121.6939005 , 165.31200117,\n",
              "        92.96239945, 135.01070057, 121.30889958, 120.76870044,\n",
              "       104.70860048, 142.4066027 , 121.50849958, 116.71020055,\n",
              "       113.51520091, 127.15019757, 122.71949952, 125.83639957,\n",
              "       121.15640055,  86.82799891, 132.41570101, 145.61050168,\n",
              "        92.63779957, 159.04749963, 159.23170279, 126.27589916,\n",
              "       165.29339936, 108.99459982, 110.08960069, 103.71979862,\n",
              "        94.40280088, 127.63740294, 107.16670069, 163.34319985,\n",
              "       121.80020039, 132.03189984, 130.70940147, 160.1046    ,\n",
              "        90.22989866, 175.10220221, 127.58350014, 126.54829903,\n",
              "        86.50719938, 124.45979974, 150.24109748,  89.6862002 ,\n",
              "       107.33569979, 108.96269999,  84.0685991 , 135.46790015,\n",
              "       154.89240219, 139.55430337,  73.85790041, 152.13030073,\n",
              "       125.96929982, 126.80269984, 127.51659896, 108.73119966,\n",
              "       156.50890113, 114.58950137, 117.00070153, 125.15289966,\n",
              "       154.19820151, 121.53269985, 156.37249898,  92.99310039,\n",
              "       125.62650158, 125.57260032,  87.86310053,  92.2002993 ,\n",
              "       126.27319928, 128.20920382, 112.95690035, 117.63559778,\n",
              "       120.85940024, 127.01519832, 119.60020086, 137.14190048,\n",
              "        93.92119954, 119.83150033, 113.31470109,  94.19939967,\n",
              "       108.8763998 ,  87.19169931, 108.72459941,  89.58859967,\n",
              "        92.63570001, 131.70290329, 162.46080076,  89.62919968,\n",
              "       119.54880075, 133.19420156, 123.95900044, 128.40150147,\n",
              "       101.81129845,  89.16369855, 132.06820135, 120.25930002,\n",
              "       108.9823999 , 166.61150116, 115.15960072,  86.55759902,\n",
              "       118.77770056,  91.03859949, 161.8164005 , 116.81200019,\n",
              "       121.64389979, 160.35669765, 120.05749928, 112.83379948,\n",
              "       108.48349853, 126.76600008,  76.34170024, 102.94819989,\n",
              "       127.62320265, 121.97249891,  92.61630008, 131.63740079,\n",
              "       118.0965018 , 116.09929973, 154.58500267, 159.39860063,\n",
              "       110.15299956, 154.79679743, 119.300901  , 160.6080016 ,\n",
              "       118.47010045, 158.64619898, 115.14949921, 116.85740041,\n",
              "       148.58159915, 114.86520078, 125.84529894, 166.27770005,\n",
              "       117.66400034, 125.19199936, 153.21020342, 153.56020215,\n",
              "       132.10150011, 114.67090049, 121.35930175, 125.21980092,\n",
              "        89.65350067, 123.00919973, 154.83350273, 111.84000069,\n",
              "       107.03829961, 161.16820091, 118.43059955, 165.79069988,\n",
              "       134.3953011 , 114.95829973, 153.09209957, 168.57210007,\n",
              "       114.57610001, 114.01460115, 157.84729858,  85.25089848,\n",
              "       127.12140062, 127.90400026, 128.77770027, 124.28610062,\n",
              "       124.13630073,  90.60580081, 153.11430098,  97.09959979,\n",
              "       137.00049975,  89.12619918, 107.11850012, 114.97390067,\n",
              "       112.53900115, 124.53329915,  91.43039866, 125.41010123,\n",
              "       162.36809861, 120.048499  , 165.00380126, 126.6728983 ,\n",
              "       112.50150028, 127.58429977,  95.05889925,  90.87339976,\n",
              "       103.23979931, 120.89459977,  82.95739955, 126.41519999,\n",
              "       159.90260463, 117.40460095, 118.37180013, 120.22549994,\n",
              "       122.83119969, 120.13630134, 121.62269962, 117.81230072,\n",
              "       107.09300008, 148.46610006, 125.74939908, 115.64620099,\n",
              "        73.66559988, 127.74870111, 154.48390069, 122.90139991,\n",
              "       125.60630061,  88.76820049, 103.12999872, 124.67849986,\n",
              "       120.19550038,  73.33270077, 151.07740007, 121.2195001 ,\n",
              "       104.77559987,  86.29239765, 114.84569916, 172.25219838,\n",
              "       120.07820024, 160.83859716, 113.28749942, 121.11429989,\n",
              "       118.47040184,  95.96519977, 118.77300027, 125.89200017,\n",
              "       118.58179942,  95.57150024, 153.93010187, 122.15469967,\n",
              "       147.33079995, 159.2114025 , 113.62690014, 122.50739931,\n",
              "       150.39699777, 127.18360036, 166.06280016, 136.51710015,\n",
              "       119.97249997, 166.95349926, 108.43099927, 121.73869866,\n",
              "       139.36410021, 107.26939884])"
            ]
          },
          "metadata": {},
          "execution_count": 18
        }
      ]
    },
    {
      "cell_type": "code",
      "source": [
        "# R squared error\n",
        "error_score = metrics.r2_score(Y_test, test_data_prediction)\n",
        "print(\"R squared error : \", error_score)"
      ],
      "metadata": {
        "colab": {
          "base_uri": "https://localhost:8080/"
        },
        "id": "K8NgFRVxetqy",
        "outputId": "a9e373c9-1749-4cf7-8712-3bef4b25860a"
      },
      "execution_count": null,
      "outputs": [
        {
          "output_type": "stream",
          "name": "stdout",
          "text": [
            "R squared error :  0.9890221471472518\n"
          ]
        }
      ]
    },
    {
      "cell_type": "markdown",
      "source": [
        "# Compare the Actual and Predicted Values"
      ],
      "metadata": {
        "id": "Km212gJGfEuE"
      }
    },
    {
      "cell_type": "code",
      "source": [
        "Y_test = list(Y_test)"
      ],
      "metadata": {
        "id": "waofqmPBe7Jf"
      },
      "execution_count": null,
      "outputs": []
    },
    {
      "cell_type": "code",
      "source": [
        "plt.plot(Y_test, color='blue', label = 'Actual Value')\n",
        "plt.plot(test_data_prediction, color='green', label='Predicted Value')\n",
        "plt.title('Actual Price vs Predicted Price')\n",
        "plt.xlabel('Number of values')\n",
        "plt.ylabel('GLD Price')\n",
        "plt.legend()\n",
        "plt.show()"
      ],
      "metadata": {
        "colab": {
          "base_uri": "https://localhost:8080/",
          "height": 295
        },
        "id": "PQoMhzcSfNKQ",
        "outputId": "761b392d-3e0a-43e7-b482-c5b9e8045d23"
      },
      "execution_count": null,
      "outputs": [
        {
          "output_type": "display_data",
          "data": {
            "text/plain": [
              "<Figure size 432x288 with 1 Axes>"
            ],
            "image/png": "[encoded data removed]"
          },
          "metadata": {
            "needs_background": "light"
          }
        }
      ]
    },
    {
      "cell_type": "code",
      "source": [
        "import pickle as pkl"
      ],
      "metadata": {
        "id": "os02Mk7efRMJ"
      },
      "execution_count": null,
      "outputs": []
    },
    {
      "cell_type": "code",
      "source": [
        "pkl.dump(regressor,open(\"gold_model.sav\",\"wb\"))"
      ],
      "metadata": {
        "id": "4OYDo2CKfhYT"
      },
      "execution_count": null,
      "outputs": []
    },
    {
      "cell_type": "code",
      "source": [],
      "metadata": {
        "id": "qicj7Xiwfszk"
      },
      "execution_count": null,
      "outputs": []
    }
  ]
}